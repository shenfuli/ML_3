{
 "cells": [
  {
   "cell_type": "markdown",
   "metadata": {},
   "source": [
    "# 中文自然语言处理分析"
   ]
  },
  {
   "cell_type": "markdown",
   "metadata": {},
   "source": [
    "by @福利\n",
    "\n",
    "和拉丁语系不同，亚洲语言是不用空格分开每个有意义的词的。而当我们进行自然语言处理的时候，大部分情况下，词汇是我们对句子和文章理解的基础，因此需要一个额外的分词工具去把完整的文本中分解成粒度更细的词。"
   ]
  },
  {
   "cell_type": "code",
   "execution_count": 40,
   "metadata": {},
   "outputs": [],
   "source": [
    "import  pandas as pd\n",
    "import  jieba\n",
    "from jieba import analyse\n",
    "import numpy as np\n",
    "import sys"
   ]
  },
  {
   "cell_type": "code",
   "execution_count": 41,
   "metadata": {},
   "outputs": [
    {
     "name": "stdout",
     "output_type": "stream",
     "text": [
      "<module 'numpy.version' from '/anaconda3/lib/python3.7/site-packages/numpy/version.py'>\n"
     ]
    }
   ],
   "source": [
    "print(np.version)"
   ]
  },
  {
   "cell_type": "code",
   "execution_count": 42,
   "metadata": {},
   "outputs": [
    {
     "data": {
      "text/plain": [
       "['',\n",
       " '/Users/zhengwenjie/AI/work/ML_3/NLP_project',\n",
       " '/anaconda3/lib/python37.zip',\n",
       " '/anaconda3/lib/python3.7',\n",
       " '/anaconda3/lib/python3.7/lib-dynload',\n",
       " '/anaconda3/lib/python3.7/site-packages',\n",
       " '/anaconda3/lib/python3.7/site-packages/aeosa',\n",
       " '/anaconda3/lib/python3.7/site-packages/IPython/extensions',\n",
       " '/Users/zhengwenjie/.ipython']"
      ]
     },
     "execution_count": 42,
     "metadata": {},
     "output_type": "execute_result"
    }
   ],
   "source": [
    "sys.path"
   ]
  },
  {
   "cell_type": "markdown",
   "metadata": {},
   "source": [
    "## 关键词提取"
   ]
  },
  {
   "cell_type": "code",
   "execution_count": 31,
   "metadata": {},
   "outputs": [],
   "source": [
    "# 设置停止词\n",
    "jieba.analyse.set_stop_words(\"./data/stopwords.txt\")"
   ]
  },
  {
   "cell_type": "markdown",
   "metadata": {},
   "source": [
    "* 基于TF－IDF 关键词提取"
   ]
  },
  {
   "cell_type": "raw",
   "metadata": {},
   "source": [
    "\n",
    "import jieba.analyse\n",
    "\n",
    "jieba.analyse.extract_tags(sentence, topK=20, withWeight=False, allowPOS=())\n",
    "sentence 为待提取的文本\n",
    "topK 为返回几个 TF/IDF 权重最大的关键词，默认值为 20\n",
    "withWeight 为是否一并返回关键词权重值，默认值为 False\n",
    "allowPOS 仅包括指定词性的词，默认值为空，即不筛选\n",
    "jieba.analyse.TFIDF(idf_path=None) 新建 TFIDF 实例，idf_path 为 IDF 频率文件\n",
    "代码示例 （关键词提取）\n",
    "\n",
    "https://github.com/fxsjy/jieba/blob/master/test/extract_tags.py"
   ]
  },
  {
   "cell_type": "code",
   "execution_count": 32,
   "metadata": {},
   "outputs": [
    {
     "data": {
      "text/html": [
       "<div>\n",
       "<style scoped>\n",
       "    .dataframe tbody tr th:only-of-type {\n",
       "        vertical-align: middle;\n",
       "    }\n",
       "\n",
       "    .dataframe tbody tr th {\n",
       "        vertical-align: top;\n",
       "    }\n",
       "\n",
       "    .dataframe thead th {\n",
       "        text-align: right;\n",
       "    }\n",
       "</style>\n",
       "<table border=\"1\" class=\"dataframe\">\n",
       "  <thead>\n",
       "    <tr style=\"text-align: right;\">\n",
       "      <th></th>\n",
       "      <th>id</th>\n",
       "      <th>content</th>\n",
       "    </tr>\n",
       "  </thead>\n",
       "  <tbody>\n",
       "    <tr>\n",
       "      <th>0</th>\n",
       "      <td>0</td>\n",
       "      <td>,中新网,1月7日电  恰逢CES 2017拉开大幕，却惊闻“AlphaGo升级版”的Mas...</td>\n",
       "    </tr>\n",
       "    <tr>\n",
       "      <th>1</th>\n",
       "      <td>1</td>\n",
       "      <td>徐立，商汤科技CEO在谈起本次参展时谈到：“作为一个成立刚刚两年的创业公司，这次参展，一方面...</td>\n",
       "    </tr>\n",
       "    <tr>\n",
       "      <th>2</th>\n",
       "      <td>2</td>\n",
       "      <td>正如最后挑战Master的古力在落败后发表的观点：“人类与人工智能共同探索围棋世界的大幕即将...</td>\n",
       "    </tr>\n",
       "    <tr>\n",
       "      <th>3</th>\n",
       "      <td>3</td>\n",
       "      <td>,　SenseFace人脸布控的“黑科技”</td>\n",
       "    </tr>\n",
       "    <tr>\n",
       "      <th>4</th>\n",
       "      <td>4</td>\n",
       "      <td>本届大展最大的看点，无疑是“被誉为2016全美科技第一神股”英伟达的首次CES主题演讲。现场...</td>\n",
       "    </tr>\n",
       "  </tbody>\n",
       "</table>\n",
       "</div>"
      ],
      "text/plain": [
       "   id                                            content\n",
       "0   0  ,中新网,1月7日电  恰逢CES 2017拉开大幕，却惊闻“AlphaGo升级版”的Mas...\n",
       "1   1  徐立，商汤科技CEO在谈起本次参展时谈到：“作为一个成立刚刚两年的创业公司，这次参展，一方面...\n",
       "2   2  正如最后挑战Master的古力在落败后发表的观点：“人类与人工智能共同探索围棋世界的大幕即将...\n",
       "3   3                              ,　SenseFace人脸布控的“黑科技”\n",
       "4   4  本届大展最大的看点，无疑是“被誉为2016全美科技第一神股”英伟达的首次CES主题演讲。现场..."
      ]
     },
     "execution_count": 32,
     "metadata": {},
     "output_type": "execute_result"
    }
   ],
   "source": [
    "# 科技类新闻\n",
    "news_data_path = \"./data/technology_news.csv\"\n",
    "news_data_df = pd.read_csv(news_data_path,sep=\",\",encoding=\"utf-8\",names=[\"id\",\"content\"],header=0)\n",
    "news_data_df = news_data_df.dropna()\n",
    "news_data_df[\"content\"] = news_data_df.content.apply(lambda x:x.strip())\n",
    "news_data_df.head()"
   ]
  },
  {
   "cell_type": "code",
   "execution_count": 33,
   "metadata": {},
   "outputs": [],
   "source": [
    "news_lst =  news_data_df.content.values.tolist()\n",
    "lines = \"\".join(news_lst)"
   ]
  },
  {
   "cell_type": "code",
   "execution_count": 34,
   "metadata": {},
   "outputs": [],
   "source": [
    "tfidf_tags = jieba.analyse.extract_tags(lines, topK=20, withWeight=True, allowPOS=())"
   ]
  },
  {
   "cell_type": "code",
   "execution_count": 35,
   "metadata": {},
   "outputs": [
    {
     "name": "stdout",
     "output_type": "stream",
     "text": [
      "[('互联网', 0.03747879067428829), ('手机', 0.03478861572219171), ('平台', 0.034364016389595034), ('人工智能', 0.030207610612604942), ('百度', 0.029219914457491076), ('2017', 0.029031346517937033), ('智能', 0.028573966825895386), ('技术', 0.028374331540614292), ('数据', 0.027682957796662935), ('360', 0.026904049574812336), ('服务', 0.02684778784101862), ('直播', 0.02240843022914509), ('产品', 0.022358601482393867), ('企业', 0.021891067488386897), ('视频', 0.02054662325524849), ('网络', 0.018312896740235306), ('行业', 0.018203063456355206), ('游戏', 0.0180598440272288), ('机器人', 0.017653117461615065), ('电商', 0.01757777596306257)]\n"
     ]
    }
   ],
   "source": [
    "print(tfidf_tags)"
   ]
  },
  {
   "cell_type": "code",
   "execution_count": 36,
   "metadata": {},
   "outputs": [
    {
     "name": "stdout",
     "output_type": "stream",
     "text": [
      "   id                                            content\n",
      "0   0  新华社北京1月8日电(记者董瑞丰)军民融合发展已经上升为国家战略，但现阶段国防工业企业军民融...\n",
      "1   1  中国国防工业企业军民融合产业联盟8日在北京宣布成立。刘东奎说，适时成立联盟，坚持“军民融合、...\n",
      "2   2  数据显示，我国目前有十几万家民营高新技术企业，很多高新技术企业在新能源、新材料、电子信息产业...\n",
      "3   3  对于现阶段军民融合面临的问题，刘东奎列举：从企业外部来看，军民融合管理体制不够顺畅，军民融合...\n",
      "4   4  “国防科技工业是军民融合的天然载体和核心领域。”刘东奎说，未来要着力搭建军民协同创新展示引导...\n",
      "['航母', '训练', '海军', '中国', '官兵', '部队', '编队', '作战', '美国', '导弹', '能力', '军事', '装备', '军队', '保障', '战略', '军人', '日本', '南海', '战机']\n"
     ]
    }
   ],
   "source": [
    "# 军事类新闻\n",
    "news_data_path = \"./data/military_news.csv\"\n",
    "news_data_df = pd.read_csv(news_data_path,sep=\",\",encoding=\"utf-8\",names=[\"id\",\"content\"],header=0)\n",
    "news_data_df = news_data_df.dropna()\n",
    "news_data_df[\"content\"] = news_data_df.content.apply(lambda x:x.strip())\n",
    "print(news_data_df.head())\n",
    "news_lst =  news_data_df.content.values.tolist()\n",
    "lines = \"\".join(news_lst)\n",
    "tfidf_tags = jieba.analyse.extract_tags(lines, topK=20, withWeight=False, allowPOS=['ns', 'n', 'vn', 'v','nr'])\n",
    "print(tfidf_tags)"
   ]
  },
  {
   "cell_type": "markdown",
   "metadata": {},
   "source": [
    "* 基于textrank 关键词企图"
   ]
  },
  {
   "cell_type": "raw",
   "metadata": {},
   "source": [
    "'''\n",
    "jieba.analyse.textrank(sentence, topK=20, withWeight=False, allowPOS=('ns', 'n', 'vn', 'v')) 直接使用，接口相同，注意默认过滤词性。\n",
    "jieba.analyse.TextRank() 新建自定义 TextRank 实例\n",
    "\n",
    "基本思想:\n",
    "将待抽取关键词的文本进行分词\n",
    "以固定窗口大小(默认为5，通过span属性调整)，词之间的共现关系，构建图\n",
    "计算图中节点的PageRank，注意是无向带权图\n",
    "'''"
   ]
  },
  {
   "cell_type": "code",
   "execution_count": 43,
   "metadata": {},
   "outputs": [
    {
     "name": "stdout",
     "output_type": "stream",
     "text": [
      "['中国', '海军', '训练', '美国', '部队', '官兵', '航母', '作战', '能力', '军事', '发展', '工作', '国家', '建设', '导弹', '编队', '日本', '技术', '装备', '保障']\n"
     ]
    }
   ],
   "source": [
    "textrank_tags = jieba.analyse.textrank(lines, topK=20, withWeight=False, allowPOS=('ns', 'n', 'vn', 'v'))\n",
    "print(textrank_tags)"
   ]
  },
  {
   "cell_type": "code",
   "execution_count": null,
   "metadata": {},
   "outputs": [],
   "source": []
  },
  {
   "cell_type": "markdown",
   "metadata": {},
   "source": [
    "## LDA 主体模型"
   ]
  },
  {
   "cell_type": "markdown",
   "metadata": {},
   "source": [
    "咱们来用LDA主题模型建模，看看这些新闻主要在说哪些topic。\n",
    "\n",
    "首先我们要把文本内容处理成固定的格式，一个包含句子的list，list中每个元素是分词后的词list。类似下面这个样子。\n",
    "\n",
    "[[第，一，条，新闻，在，这里],[第，二，条，新闻，在，这里],[这，是，在，做， 什么],...]"
   ]
  },
  {
   "cell_type": "code",
   "execution_count": 134,
   "metadata": {},
   "outputs": [],
   "source": [
    "from gensim import corpora,models,similarities\n",
    "import gensim"
   ]
  },
  {
   "cell_type": "code",
   "execution_count": 177,
   "metadata": {},
   "outputs": [
    {
     "name": "stdout",
     "output_type": "stream",
     "text": [
      "   id                                            content\n",
      "0   0  ,中新网,1月7日电  恰逢CES 2017拉开大幕，却惊闻“AlphaGo升级版”的Mas...\n",
      "1   1  徐立，商汤科技CEO在谈起本次参展时谈到：“作为一个成立刚刚两年的创业公司，这次参展，一方面...\n",
      "2   2  正如最后挑战Master的古力在落败后发表的观点：“人类与人工智能共同探索围棋世界的大幕即将...\n",
      "3   3                              ,　SenseFace人脸布控的“黑科技”\n",
      "4   4  本届大展最大的看点，无疑是“被誉为2016全美科技第一神股”英伟达的首次CES主题演讲。现场...\n",
      "  stopword\n",
      "0        !\n",
      "1        \"\n",
      "2        #\n",
      "3        $\n",
      "4        %\n",
      "['!', '\"', '#', '$']\n"
     ]
    }
   ],
   "source": [
    "news_data_path = \"./data/technology_news.csv\"\n",
    "news_data_df = pd.read_csv(news_data_path, sep=\",\", encoding=\"utf-8\", names=[\"id\", \"content\"], header=0)\n",
    "news_data_df = news_data_df.dropna()\n",
    "news_data_df[\"content\"] = news_data_df.content.apply(lambda x: x.strip())\n",
    "print(news_data_df.head())\n",
    "## 去除停用词\n",
    "stopwords_data_path = \"data/stopwords.txt\"\n",
    "stopwords_data_df = pd.read_csv(stopwords_data_path,encoding=\"utf-8\",sep=\"\\t\",index_col=None,quoting=3,names=[\"stopword\"])\n",
    "print(stopwords_data_df.head())\n",
    "\n",
    "stopwords_list = stopwords_data_df.stopword.tolist()\n",
    "print(stopwords_list[0:4])\n"
   ]
  },
  {
   "cell_type": "code",
   "execution_count": 178,
   "metadata": {},
   "outputs": [],
   "source": [
    "lines = news_data_df.content.tolist()"
   ]
  },
  {
   "cell_type": "code",
   "execution_count": 179,
   "metadata": {},
   "outputs": [],
   "source": [
    "sentences=[]\n",
    "for line in lines:\n",
    "    try:\n",
    "        segs = jieba.lcut(line)        \n",
    "        segs_list=[]\n",
    "        for seg in segs:\n",
    "            if(len(seg) > 1) and (seg not in stopwords_list):\n",
    "                segs_list.append(seg)\n",
    "        sentences.append(segs_list)\n",
    "    except Exception:\n",
    "        continue"
   ]
  },
  {
   "cell_type": "code",
   "execution_count": 180,
   "metadata": {},
   "outputs": [
    {
     "data": {
      "text/plain": [
       "[['中新网',\n",
       "  '日电',\n",
       "  'CES',\n",
       "  '2017',\n",
       "  '拉开',\n",
       "  '大幕',\n",
       "  '惊闻',\n",
       "  'AlphaGo',\n",
       "  '升级版',\n",
       "  'Master',\n",
       "  '迎来',\n",
       "  '连胜',\n",
       "  '人类',\n",
       "  '顶尖',\n",
       "  '围棋',\n",
       "  '一周',\n",
       "  '纷纷',\n",
       "  '败给',\n",
       "  '谷歌',\n",
       "  '旗下',\n",
       "  'DeepMind',\n",
       "  '团队',\n",
       "  '打造',\n",
       "  '围棋',\n",
       "  '大脑',\n",
       "  '聚焦',\n",
       "  '人工智能',\n",
       "  '本届',\n",
       "  'CES',\n",
       "  '增添',\n",
       "  '声势',\n",
       "  '首次',\n",
       "  '参展',\n",
       "  '致力于',\n",
       "  '打造',\n",
       "  '原创',\n",
       "  'AI',\n",
       "  '大脑',\n",
       "  '中国',\n",
       "  '深度',\n",
       "  '学习',\n",
       "  '领军',\n",
       "  '企业',\n",
       "  '商汤',\n",
       "  '科技',\n",
       "  '人工智能',\n",
       "  '浪潮',\n",
       "  '之巅',\n",
       "  '众多',\n",
       "  '业界',\n",
       "  '前辈',\n",
       "  '巨匠',\n",
       "  '面前',\n",
       "  '将会',\n",
       "  '交出',\n",
       "  '一份',\n",
       "  '答卷'],\n",
       " ['徐立',\n",
       "  '商汤',\n",
       "  '科技',\n",
       "  'CEO',\n",
       "  '谈起',\n",
       "  '本次',\n",
       "  '参展',\n",
       "  '谈到',\n",
       "  '成立',\n",
       "  '刚刚',\n",
       "  '两年',\n",
       "  '创业',\n",
       "  '公司',\n",
       "  '参展',\n",
       "  '展示',\n",
       "  '最新',\n",
       "  '人工智能',\n",
       "  '技术',\n",
       "  '产品',\n",
       "  '表达',\n",
       "  '人工智能',\n",
       "  '理解',\n",
       "  '人工智能',\n",
       "  '特定',\n",
       "  '领域',\n",
       "  '超越',\n",
       "  '人类',\n",
       "  '广泛应用',\n",
       "  '标志',\n",
       "  'Master',\n",
       "  '胜利',\n",
       "  '围棋',\n",
       "  '世界',\n",
       "  '开拓',\n",
       "  '局面',\n",
       "  '不谋而合']]"
      ]
     },
     "execution_count": 180,
     "metadata": {},
     "output_type": "execute_result"
    }
   ],
   "source": [
    "sentences[0:2]"
   ]
  },
  {
   "cell_type": "code",
   "execution_count": 181,
   "metadata": {},
   "outputs": [],
   "source": [
    "# 词典模型\n",
    "dictionary = corpora.Dictionary(sentences)\n",
    "corpus = [dictionary.doc2bow(sentence) for sentence in sentences]"
   ]
  },
  {
   "cell_type": "code",
   "execution_count": 182,
   "metadata": {},
   "outputs": [],
   "source": [
    "# 基于词袋模型训练LDA 模型\n",
    "lda = gensim.models.ldamodel.LdaModel(corpus=corpus,id2word=dictionary,num_topics=20)"
   ]
  },
  {
   "cell_type": "code",
   "execution_count": 193,
   "metadata": {},
   "outputs": [],
   "source": [
    "# lda 模型保持\n",
    "from gensim.test.utils import datapath\n",
    "temp_file = datapath(\"lda_20190222.model\")\n",
    "lda.save(temp_file)"
   ]
  },
  {
   "cell_type": "code",
   "execution_count": 195,
   "metadata": {},
   "outputs": [
    {
     "data": {
      "text/plain": [
       "'0.068*\"游戏\" + 0.011*\"地图\" + 0.011*\"玩家\" + 0.011*\"设计\" + 0.009*\"电子竞技\" + 0.008*\"充电\" + 0.007*\"青年\" + 0.007*\"独立\" + 0.007*\"电竞\" + 0.007*\"采用\"'"
      ]
     },
     "execution_count": 195,
     "metadata": {},
     "output_type": "execute_result"
    }
   ],
   "source": [
    "from gensim.models import LdaModel\n",
    "# lda 模型加载\n",
    "lda_new = LdaModel.load(temp_file)\n",
    "# 查看第三号分类，以及常出现的词语\n",
    "lda_new.print_topic(3,topn=10)"
   ]
  },
  {
   "cell_type": "code",
   "execution_count": 204,
   "metadata": {},
   "outputs": [
    {
     "name": "stdout",
     "output_type": "stream",
     "text": [
      "0---->0.023*\"网络\" + 0.013*\"诈骗\" + 0.013*\"企业\" + 0.008*\"电信\" + 0.008*\"保护\" + 0.007*\"支付\" + 0.006*\"平台\" + 0.006*\"体系\" + 0.006*\"风险\" + 0.006*\"相关\"\n",
      "1---->0.016*\"创业\" + 0.009*\"项目\" + 0.008*\"中国\" + 0.007*\"举办\" + 0.006*\"媒体\" + 0.006*\"发布会\" + 0.006*\"平台\" + 0.006*\"论坛\" + 0.006*\"活动\" + 0.006*\"2017\"\n",
      "2---->0.029*\"技术\" + 0.023*\"科技\" + 0.019*\"发展\" + 0.014*\"公司\" + 0.014*\"中国\" + 0.014*\"全球\" + 0.014*\"领域\" + 0.013*\"行业\" + 0.012*\"创新\" + 0.011*\"未来\"\n",
      "3---->0.068*\"游戏\" + 0.011*\"地图\" + 0.011*\"玩家\" + 0.011*\"设计\" + 0.009*\"电子竞技\" + 0.008*\"充电\" + 0.007*\"青年\" + 0.007*\"独立\" + 0.007*\"电竞\" + 0.007*\"采用\"\n",
      "4---->0.038*\"视频\" + 0.036*\"内容\" + 0.018*\"平台\" + 0.016*\"腾讯\" + 0.015*\"勒索\" + 0.012*\"广告\" + 0.012*\"流量\" + 0.009*\"营销\" + 0.009*\"APP\" + 0.007*\"媒体\"\n",
      "5---->0.042*\"手机\" + 0.023*\"市场\" + 0.023*\"产品\" + 0.021*\"品牌\" + 0.015*\"消费者\" + 0.012*\"小米\" + 0.010*\"电视\" + 0.007*\"厂商\" + 0.007*\"体验\" + 0.006*\"智能手机\"\n",
      "6---->0.014*\"生活\" + 0.013*\"分享\" + 0.013*\"互联网\" + 0.008*\"空间\" + 0.008*\"金立\" + 0.008*\"需求\" + 0.008*\"方式\" + 0.007*\"城市\" + 0.007*\"平台\" + 0.007*\"工作\"\n",
      "7---->0.030*\"中国\" + 0.017*\"数据\" + 0.015*\"发展\" + 0.014*\"企业\" + 0.014*\"市场\" + 0.014*\"创新\" + 0.014*\"互联网\" + 0.014*\"国家\" + 0.013*\"网络安全\" + 0.013*\"行业\"\n",
      "8---->0.024*\"攻击\" + 0.023*\"信息\" + 0.017*\"漏洞\" + 0.014*\"网络\" + 0.013*\"威胁\" + 0.012*\"手机\" + 0.011*\"软件\" + 0.009*\"网站\" + 0.009*\"电脑\" + 0.008*\"系统\"\n",
      "9---->0.029*\"增长\" + 0.017*\"同比\" + 0.017*\"显示\" + 0.014*\"苹果\" + 0.009*\"2017\" + 0.008*\"亿美元\" + 0.007*\"蓝色\" + 0.007*\"联想\" + 0.007*\"北京\" + 0.007*\"专利\"\n",
      "10---->0.015*\"永恒\" + 0.015*\"教育\" + 0.014*\"医疗\" + 0.010*\"老师\" + 0.009*\"项目\" + 0.008*\"公益\" + 0.008*\"旅游\" + 0.008*\"平台\" + 0.007*\"社会\" + 0.007*\"马化腾\"\n",
      "11---->0.015*\"手机\" + 0.014*\"技术\" + 0.014*\"智能\" + 0.013*\"功能\" + 0.011*\"识别\" + 0.008*\"系统\" + 0.008*\"语音\" + 0.007*\"自动\" + 0.007*\"共享\" + 0.007*\"信息\"\n",
      "12---->0.043*\"人工智能\" + 0.038*\"百度\" + 0.021*\"技术\" + 0.010*\"AI\" + 0.010*\"领域\" + 0.010*\"互联网\" + 0.010*\"发展\" + 0.009*\"智能\" + 0.009*\"合作\" + 0.009*\"学习\"\n",
      "13---->0.027*\"智能\" + 0.018*\"平台\" + 0.013*\"服务\" + 0.012*\"系统\" + 0.011*\"设备\" + 0.010*\"宽带\" + 0.010*\"工作\" + 0.009*\"企业\" + 0.007*\"美团\" + 0.007*\"日本\"\n",
      "14---->0.043*\"直播\" + 0.017*\"汽车\" + 0.008*\"微信\" + 0.007*\"梦想\" + 0.007*\"体验\" + 0.007*\"无人机\" + 0.006*\"腾讯\" + 0.006*\"技术\" + 0.006*\"平台\" + 0.005*\"医生\"\n",
      "15---->0.029*\"病毒\" + 0.023*\"服务\" + 0.017*\"提供\" + 0.015*\"智能\" + 0.008*\"办公\" + 0.008*\"VR\" + 0.007*\"感染\" + 0.007*\"平台\" + 0.006*\"全球\" + 0.006*\"解决方案\"\n",
      "16---->0.015*\"亿元\" + 0.014*\"收入\" + 0.012*\"贾跃亭\" + 0.011*\"万元\" + 0.011*\"乐视\" + 0.010*\"视网\" + 0.010*\"火锅\" + 0.008*\"上市公司\" + 0.008*\"公司\" + 0.007*\"股东\"\n",
      "17---->0.015*\"业务\" + 0.013*\"产品\" + 0.012*\"公司\" + 0.012*\"电商\" + 0.009*\"猎豹\" + 0.009*\"亿元\" + 0.008*\"学校\" + 0.008*\"母婴\" + 0.008*\"阿里\" + 0.008*\"生态\"\n",
      "18---->0.037*\"机器人\" + 0.011*\"信息安全\" + 0.008*\"监控\" + 0.008*\"安防\" + 0.008*\"政务\" + 0.007*\"科技\" + 0.007*\"服务\" + 0.005*\"广告主\" + 0.005*\"原创\" + 0.005*\"商用\"\n",
      "19---->0.068*\"数据\" + 0.014*\"产业\" + 0.012*\"互联网\" + 0.011*\"发展\" + 0.010*\"企业\" + 0.010*\"平台\" + 0.010*\"电商\" + 0.009*\"城市\" + 0.009*\"京东\" + 0.008*\"建设\"\n"
     ]
    }
   ],
   "source": [
    "for topic in lda_new.print_topics(num_topics=20,num_words=10):\n",
    "    print(str(topic[0]) + \"---->\" + topic[1])"
   ]
  },
  {
   "cell_type": "code",
   "execution_count": 206,
   "metadata": {},
   "outputs": [
    {
     "name": "stdout",
     "output_type": "stream",
     "text": [
      "[(9, 1), (66, 1), (88, 1), (93, 1), (96, 1), (180, 1), (209, 1), (232, 1), (267, 1), (275, 1), (325, 3), (329, 1), (330, 4), (331, 3), (332, 1), (345, 1), (347, 1), (348, 1), (349, 1), (679, 1), (680, 1), (681, 1), (682, 1), (683, 1), (684, 1), (685, 1), (686, 1), (687, 1), (688, 1), (689, 1), (690, 2), (691, 1), (692, 1), (693, 2), (694, 1), (695, 2), (696, 1), (697, 1)]\n"
     ]
    },
    {
     "data": {
      "text/plain": [
       "[(5, 0.31276804), (9, 0.60823065), (14, 0.039259266), (17, 0.02341554)]"
      ]
     },
     "execution_count": 206,
     "metadata": {},
     "output_type": "execute_result"
    }
   ],
   "source": [
    "# 对新加入的文本，进行简单主题分类：\n",
    "text = \"国产厂商选择印度作为出海第一站的一个重要原因就是专利门槛相对较低。不过，近年来国产手机厂商在印度面临多起专利诉讼。杜比实验室(Dolby)在印度起诉了OPPO、vivo两家中国智能手机厂商，小米因涉嫌侵犯技术专利被爱立信起诉至印度德里高等法院，爱立信申请“临时禁令”并获同意，红米Note和红米1S手机暂停销售。\"\n",
    "corpus = dictionary.doc2bow(jieba.lcut(text))\n",
    "print(corpus)\n",
    "\n",
    "lda_new.get_document_topics(corpus)\n",
    "\n"
   ]
  },
  {
   "cell_type": "code",
   "execution_count": null,
   "metadata": {},
   "outputs": [],
   "source": []
  }
 ],
 "metadata": {
  "kernelspec": {
   "display_name": "Python 3",
   "language": "python",
   "name": "python3"
  },
  "language_info": {
   "codemirror_mode": {
    "name": "ipython",
    "version": 3
   },
   "file_extension": ".py",
   "mimetype": "text/x-python",
   "name": "python",
   "nbconvert_exporter": "python",
   "pygments_lexer": "ipython3",
   "version": "3.7.2"
  }
 },
 "nbformat": 4,
 "nbformat_minor": 2
}
